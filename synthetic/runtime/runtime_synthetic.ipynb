{
 "cells": [
  {
   "cell_type": "code",
   "execution_count": 1,
   "metadata": {
    "collapsed": true,
    "ExecuteTime": {
     "end_time": "2024-01-26T15:21:26.720839Z",
     "start_time": "2024-01-26T15:21:26.718361Z"
    }
   },
   "outputs": [],
   "source": [
    "import pandas as pd"
   ]
  },
  {
   "cell_type": "code",
   "execution_count": 4,
   "outputs": [
    {
     "data": {
      "text/plain": "     dataset number of clients  runtime (in s)       type\n0  synthetic                 1       88.512926  federated\n1  synthetic                 3       94.661085       smpc\n2  synthetic                 3       97.415183  federated\n3  synthetic                 5      106.701499       smpc\n4  synthetic                 5       91.470672  federated",
      "text/html": "<div>\n<style scoped>\n    .dataframe tbody tr th:only-of-type {\n        vertical-align: middle;\n    }\n\n    .dataframe tbody tr th {\n        vertical-align: top;\n    }\n\n    .dataframe thead th {\n        text-align: right;\n    }\n</style>\n<table border=\"1\" class=\"dataframe\">\n  <thead>\n    <tr style=\"text-align: right;\">\n      <th></th>\n      <th>dataset</th>\n      <th>number of clients</th>\n      <th>runtime (in s)</th>\n      <th>type</th>\n    </tr>\n  </thead>\n  <tbody>\n    <tr>\n      <th>0</th>\n      <td>synthetic</td>\n      <td>1</td>\n      <td>88.512926</td>\n      <td>federated</td>\n    </tr>\n    <tr>\n      <th>1</th>\n      <td>synthetic</td>\n      <td>3</td>\n      <td>94.661085</td>\n      <td>smpc</td>\n    </tr>\n    <tr>\n      <th>2</th>\n      <td>synthetic</td>\n      <td>3</td>\n      <td>97.415183</td>\n      <td>federated</td>\n    </tr>\n    <tr>\n      <th>3</th>\n      <td>synthetic</td>\n      <td>5</td>\n      <td>106.701499</td>\n      <td>smpc</td>\n    </tr>\n    <tr>\n      <th>4</th>\n      <td>synthetic</td>\n      <td>5</td>\n      <td>91.470672</td>\n      <td>federated</td>\n    </tr>\n  </tbody>\n</table>\n</div>"
     },
     "metadata": {},
     "output_type": "display_data"
    }
   ],
   "source": [
    "datasets = ['synthetic']\n",
    "n_clients = [1, 3, 5]\n",
    "types = ['smpc', 'federated']\n",
    "\n",
    "dfs = []\n",
    "for dataset in datasets:\n",
    "    for n_client in n_clients:\n",
    "        for t in types:\n",
    "            try:\n",
    "                df = pd.read_csv(f'runtime_records/times_fc_survival_svm_{dataset}_{n_client}_{t}.csv')\n",
    "                df['type'] = t\n",
    "                dfs.append(df)\n",
    "            except FileNotFoundError:\n",
    "                continue\n",
    "\n",
    "\n",
    "runtime_data = pd.concat(dfs).drop(\"0\", axis=1).reset_index(drop=True)\n",
    "runtime_data.columns = ['dataset', 'number of clients', 'runtime (in s)', 'type']\n",
    "runtime_data['number of clients'] = runtime_data['number of clients'].astype(str)\n",
    "display(runtime_data)"
   ],
   "metadata": {
    "collapsed": false,
    "ExecuteTime": {
     "end_time": "2024-01-26T15:21:55.751951Z",
     "start_time": "2024-01-26T15:21:55.724465Z"
    }
   }
  },
  {
   "cell_type": "code",
   "execution_count": 5,
   "outputs": [],
   "source": [
    "runtime_data.to_csv('runtime_synthetic.csv', index=False)"
   ],
   "metadata": {
    "collapsed": false,
    "ExecuteTime": {
     "end_time": "2024-01-26T15:21:56.351497Z",
     "start_time": "2024-01-26T15:21:56.342686Z"
    }
   }
  },
  {
   "cell_type": "code",
   "outputs": [],
   "source": [],
   "metadata": {
    "collapsed": false
   }
  }
 ],
 "metadata": {
  "kernelspec": {
   "display_name": "Python 3",
   "language": "python",
   "name": "python3"
  },
  "language_info": {
   "codemirror_mode": {
    "name": "ipython",
    "version": 2
   },
   "file_extension": ".py",
   "mimetype": "text/x-python",
   "name": "python",
   "nbconvert_exporter": "python",
   "pygments_lexer": "ipython2",
   "version": "2.7.6"
  }
 },
 "nbformat": 4,
 "nbformat_minor": 0
}
