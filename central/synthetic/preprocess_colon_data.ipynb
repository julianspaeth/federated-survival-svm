{
 "cells": [
  {
   "cell_type": "code",
   "execution_count": 2,
   "id": "initial_id",
   "metadata": {
    "collapsed": true,
    "ExecuteTime": {
     "end_time": "2024-01-26T14:59:37.678779Z",
     "start_time": "2024-01-26T14:59:37.558652Z"
    }
   },
   "outputs": [],
   "source": [
    "import pandas as pd\n",
    "from sklearn.preprocessing import StandardScaler"
   ]
  },
  {
   "cell_type": "code",
   "outputs": [
    {
     "data": {
      "text/plain": "          sex     age  stage_Localised  stage_Regional  stage_Distant  \\\nid                                                                      \n6000  -0.8157  0.3685          -0.7536         -0.3652          1.287   \n3370  -0.8157  1.6210          -0.7536         -0.3652          1.287   \n7668  -0.8157 -0.4143          -0.7536         -0.3652          1.287   \n2601   1.2260 -0.7274           1.3269         -0.3652         -0.777   \n14387 -0.8157 -0.5709          -0.7536         -0.3652          1.287   \n...       ...     ...              ...             ...            ...   \n14469  1.2260 -1.0406          -0.7536         -0.3652         -0.777   \n6647  -0.8157 -1.5885           1.3269         -0.3652         -0.777   \n6894   1.2260  0.2120           1.3269         -0.3652         -0.777   \n1206   1.2260  0.3685           1.3269         -0.3652         -0.777   \n9199  -0.8157 -1.5103           1.3269         -0.3652         -0.777   \n\n       subsite_Coecum and ascending  subsite_Transverse  \\\nid                                                        \n6000                        -0.7439              2.1427   \n3370                        -0.7439             -0.4667   \n7668                        -0.7439             -0.4667   \n2601                        -0.7439             -0.4667   \n14387                        1.3443             -0.4667   \n...                             ...                 ...   \n14469                       -0.7439             -0.4667   \n6647                        -0.7439             -0.4667   \n6894                         1.3443             -0.4667   \n1206                        -0.7439             -0.4667   \n9199                        -0.7439             -0.4667   \n\n       subsite_Descending and sigmoid event    tte  \nid                                                  \n6000                          -0.8204     1    2.5  \n3370                           1.2190     1   12.5  \n7668                           1.2190     1    0.5  \n2601                           1.2190     0  173.5  \n14387                         -0.8204     1   15.5  \n...                               ...   ...    ...  \n14469                          1.2190     0   23.5  \n6647                          -0.8204     0  135.5  \n6894                          -0.8204     0  128.5  \n1206                           1.2190     0  171.5  \n9199                           1.2190     1   11.5  \n\n[13011 rows x 10 columns]",
      "text/html": "<div>\n<style scoped>\n    .dataframe tbody tr th:only-of-type {\n        vertical-align: middle;\n    }\n\n    .dataframe tbody tr th {\n        vertical-align: top;\n    }\n\n    .dataframe thead th {\n        text-align: right;\n    }\n</style>\n<table border=\"1\" class=\"dataframe\">\n  <thead>\n    <tr style=\"text-align: right;\">\n      <th></th>\n      <th>sex</th>\n      <th>age</th>\n      <th>stage_Localised</th>\n      <th>stage_Regional</th>\n      <th>stage_Distant</th>\n      <th>subsite_Coecum and ascending</th>\n      <th>subsite_Transverse</th>\n      <th>subsite_Descending and sigmoid</th>\n      <th>event</th>\n      <th>tte</th>\n    </tr>\n    <tr>\n      <th>id</th>\n      <th></th>\n      <th></th>\n      <th></th>\n      <th></th>\n      <th></th>\n      <th></th>\n      <th></th>\n      <th></th>\n      <th></th>\n      <th></th>\n    </tr>\n  </thead>\n  <tbody>\n    <tr>\n      <th>6000</th>\n      <td>-0.8157</td>\n      <td>0.3685</td>\n      <td>-0.7536</td>\n      <td>-0.3652</td>\n      <td>1.287</td>\n      <td>-0.7439</td>\n      <td>2.1427</td>\n      <td>-0.8204</td>\n      <td>1</td>\n      <td>2.5</td>\n    </tr>\n    <tr>\n      <th>3370</th>\n      <td>-0.8157</td>\n      <td>1.6210</td>\n      <td>-0.7536</td>\n      <td>-0.3652</td>\n      <td>1.287</td>\n      <td>-0.7439</td>\n      <td>-0.4667</td>\n      <td>1.2190</td>\n      <td>1</td>\n      <td>12.5</td>\n    </tr>\n    <tr>\n      <th>7668</th>\n      <td>-0.8157</td>\n      <td>-0.4143</td>\n      <td>-0.7536</td>\n      <td>-0.3652</td>\n      <td>1.287</td>\n      <td>-0.7439</td>\n      <td>-0.4667</td>\n      <td>1.2190</td>\n      <td>1</td>\n      <td>0.5</td>\n    </tr>\n    <tr>\n      <th>2601</th>\n      <td>1.2260</td>\n      <td>-0.7274</td>\n      <td>1.3269</td>\n      <td>-0.3652</td>\n      <td>-0.777</td>\n      <td>-0.7439</td>\n      <td>-0.4667</td>\n      <td>1.2190</td>\n      <td>0</td>\n      <td>173.5</td>\n    </tr>\n    <tr>\n      <th>14387</th>\n      <td>-0.8157</td>\n      <td>-0.5709</td>\n      <td>-0.7536</td>\n      <td>-0.3652</td>\n      <td>1.287</td>\n      <td>1.3443</td>\n      <td>-0.4667</td>\n      <td>-0.8204</td>\n      <td>1</td>\n      <td>15.5</td>\n    </tr>\n    <tr>\n      <th>...</th>\n      <td>...</td>\n      <td>...</td>\n      <td>...</td>\n      <td>...</td>\n      <td>...</td>\n      <td>...</td>\n      <td>...</td>\n      <td>...</td>\n      <td>...</td>\n      <td>...</td>\n    </tr>\n    <tr>\n      <th>14469</th>\n      <td>1.2260</td>\n      <td>-1.0406</td>\n      <td>-0.7536</td>\n      <td>-0.3652</td>\n      <td>-0.777</td>\n      <td>-0.7439</td>\n      <td>-0.4667</td>\n      <td>1.2190</td>\n      <td>0</td>\n      <td>23.5</td>\n    </tr>\n    <tr>\n      <th>6647</th>\n      <td>-0.8157</td>\n      <td>-1.5885</td>\n      <td>1.3269</td>\n      <td>-0.3652</td>\n      <td>-0.777</td>\n      <td>-0.7439</td>\n      <td>-0.4667</td>\n      <td>-0.8204</td>\n      <td>0</td>\n      <td>135.5</td>\n    </tr>\n    <tr>\n      <th>6894</th>\n      <td>1.2260</td>\n      <td>0.2120</td>\n      <td>1.3269</td>\n      <td>-0.3652</td>\n      <td>-0.777</td>\n      <td>1.3443</td>\n      <td>-0.4667</td>\n      <td>-0.8204</td>\n      <td>0</td>\n      <td>128.5</td>\n    </tr>\n    <tr>\n      <th>1206</th>\n      <td>1.2260</td>\n      <td>0.3685</td>\n      <td>1.3269</td>\n      <td>-0.3652</td>\n      <td>-0.777</td>\n      <td>-0.7439</td>\n      <td>-0.4667</td>\n      <td>1.2190</td>\n      <td>0</td>\n      <td>171.5</td>\n    </tr>\n    <tr>\n      <th>9199</th>\n      <td>-0.8157</td>\n      <td>-1.5103</td>\n      <td>1.3269</td>\n      <td>-0.3652</td>\n      <td>-0.777</td>\n      <td>-0.7439</td>\n      <td>-0.4667</td>\n      <td>1.2190</td>\n      <td>1</td>\n      <td>11.5</td>\n    </tr>\n  </tbody>\n</table>\n<p>13011 rows × 10 columns</p>\n</div>"
     },
     "execution_count": 4,
     "metadata": {},
     "output_type": "execute_result"
    }
   ],
   "source": [
    "df = pd.read_stata('colon.dta').set_index('id').loc[:, ['sex', 'age', 'surv_mm', 'status', 'stage', 'subsite']]\n",
    "df = df[df['status'].isin(['Dead: cancer', 'Alive'])]\n",
    "df['sex'] = df['sex'].replace({'Female': 0, 'Male': 1})\n",
    "df['status'] = df['status'].replace({'Dead: cancer': 1, 'Alive': 0})\n",
    "df = df.rename({\"status\": \"event\", \"surv_mm\": \"tte\"}, axis=1)\n",
    "df = pd.concat([df, pd.get_dummies(df.loc[:, 'stage'], prefix='stage').drop(columns='stage_Unknown')], axis=1).drop('stage', axis=1)\n",
    "df = pd.concat([df, pd.get_dummies(df.loc[:, 'subsite'], prefix='subsite').drop(columns='subsite_Other and NOS')], axis=1).drop('subsite', axis=1)\n",
    "X = df.drop(columns=[\"event\", \"tte\"])\n",
    "y = df.loc[:, [\"event\", \"tte\"]]\n",
    "X = pd.DataFrame(StandardScaler().fit_transform(X), index=X.index, columns=X.columns)\n",
    "df = pd.concat([X, y], axis=1)\n",
    "df = df.round(4)\n",
    "df.to_csv('data.csv', index=False)\n",
    "df = df.sample(frac=1, random_state=42)\n",
    "df"
   ],
   "metadata": {
    "collapsed": false,
    "ExecuteTime": {
     "end_time": "2024-01-26T14:59:50.255120Z",
     "start_time": "2024-01-26T14:59:50.051196Z"
    }
   },
   "id": "ce4784bfc960684a",
   "execution_count": 4
  },
  {
   "cell_type": "code",
   "outputs": [
    {
     "name": "stdout",
     "output_type": "stream",
     "text": [
      "(13011, 10)\n",
      "13011\n",
      "(2602, 10, 6505, 10, 3904, 10)\n"
     ]
    }
   ],
   "source": [
    "# split df into three parts with 20%, 50%, and 30% of the data\n",
    "num_rows = len(df)\n",
    "rows_20_percent = int(0.2 * num_rows)\n",
    "rows_50_percent = int(0.5 * num_rows)\n",
    "rows_30_percent = num_rows - rows_20_percent - rows_50_percent\n",
    "\n",
    "client1 = df.iloc[:rows_20_percent]\n",
    "client2 = df.iloc[rows_20_percent:rows_20_percent + rows_50_percent]\n",
    "client3 = df.iloc[rows_20_percent + rows_50_percent:]\n",
    "\n",
    "client1.to_csv('../../federated-analysis/synthetic/3_clients/client_1/data.csv', index=False)\n",
    "client2.to_csv('../../federated-analysis/synthetic/3_clients/client_2/data.csv', index=False)\n",
    "client3.to_csv('../../federated-analysis/synthetic/3_clients/client_3/data.csv', index=False)\n",
    "\n",
    "print(df.shape)\n",
    "print(client1.shape[0] + client2.shape[0] + client3.shape[0])\n",
    "print(client1.shape + client2.shape + client3.shape)"
   ],
   "metadata": {
    "collapsed": false,
    "ExecuteTime": {
     "end_time": "2024-01-26T14:59:58.531443Z",
     "start_time": "2024-01-26T14:59:58.462706Z"
    }
   },
   "id": "9b7f97e5efaa8710",
   "execution_count": 5
  },
  {
   "cell_type": "code",
   "outputs": [
    {
     "name": "stdout",
     "output_type": "stream",
     "text": [
      "(13011, 10)\n",
      "13011\n",
      "(2602, 10, 2602, 10, 2602, 10, 2602, 10, 2603, 10)\n"
     ]
    }
   ],
   "source": [
    "# split df into five parts with 20% each\n",
    "num_rows = len(df)\n",
    "rows_20_percent = int(0.2 * num_rows)\n",
    "\n",
    "client1 = df.iloc[:rows_20_percent]\n",
    "client2 = df.iloc[rows_20_percent:2 * rows_20_percent]\n",
    "client3 = df.iloc[2 * rows_20_percent:3 * rows_20_percent]\n",
    "client4 = df.iloc[3 * rows_20_percent:4 * rows_20_percent]\n",
    "client5 = df.iloc[4 * rows_20_percent:]\n",
    "\n",
    "\n",
    "client1.to_csv('../../federated-analysis/synthetic/5_clients/client_1/data.csv', index=False)\n",
    "client2.to_csv('../../federated-analysis/synthetic/5_clients/client_2/data.csv', index=False)\n",
    "client3.to_csv('../../federated-analysis/synthetic/5_clients/client_3/data.csv', index=False)\n",
    "client4.to_csv('../../federated-analysis/synthetic/5_clients/client_4/data.csv', index=False)\n",
    "client5.to_csv('../../federated-analysis/synthetic/5_clients/client_5/data.csv', index=False)\n",
    "\n",
    "print(df.shape)\n",
    "print(client1.shape[0] + client2.shape[0] + client3.shape[0] + client4.shape[0] + client5.shape[0])\n",
    "print(client1.shape + client2.shape + client3.shape + client4.shape + client5.shape)"
   ],
   "metadata": {
    "collapsed": false,
    "ExecuteTime": {
     "end_time": "2024-01-26T14:59:59.848389Z",
     "start_time": "2024-01-26T14:59:59.745242Z"
    }
   },
   "id": "262c9a2ceebf6112",
   "execution_count": 6
  },
  {
   "cell_type": "code",
   "outputs": [],
   "source": [],
   "metadata": {
    "collapsed": false
   },
   "id": "b80e92f2e7ea1ccc"
  }
 ],
 "metadata": {
  "kernelspec": {
   "display_name": "Python 3",
   "language": "python",
   "name": "python3"
  },
  "language_info": {
   "codemirror_mode": {
    "name": "ipython",
    "version": 2
   },
   "file_extension": ".py",
   "mimetype": "text/x-python",
   "name": "python",
   "nbconvert_exporter": "python",
   "pygments_lexer": "ipython2",
   "version": "2.7.6"
  }
 },
 "nbformat": 4,
 "nbformat_minor": 5
}
