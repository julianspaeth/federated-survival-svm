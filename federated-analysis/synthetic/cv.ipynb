{
 "cells": [
  {
   "cell_type": "code",
   "execution_count": 7,
   "id": "initial_id",
   "metadata": {
    "collapsed": true,
    "ExecuteTime": {
     "end_time": "2024-01-15T14:15:07.016454Z",
     "start_time": "2024-01-15T14:15:07.007218Z"
    }
   },
   "outputs": [],
   "source": [
    "import os\n",
    "\n",
    "import pandas as pd\n",
    "from sklearn.model_selection import RepeatedKFold"
   ]
  },
  {
   "cell_type": "code",
   "outputs": [
    {
     "name": "stdout",
     "output_type": "stream",
     "text": [
      "clients_1/client_1\n",
      "clients_3/client_1\n",
      "clients_3/client_2\n",
      "clients_3/client_3\n",
      "clients_5/client_1\n",
      "clients_5/client_2\n",
      "clients_5/client_3\n",
      "clients_5/client_4\n",
      "clients_5/client_5\n"
     ]
    }
   ],
   "source": [
    "rkf = RepeatedKFold(n_repeats=3, n_splits=3, random_state=42)\n",
    "\n",
    "for cs in [1, 3, 5]:\n",
    "    for c in [1, 2, 3, 4, 5]:\n",
    "        if cs >= c:\n",
    "            print(f'clients_{cs}/client_{c}')\n",
    "            df = pd.read_csv(f'{cs}_clients/client_{c}/data.csv')\n",
    "            for i, (train_index, test_index) in enumerate(rkf.split(df)):\n",
    "                os.makedirs(f'{cs}_clients/client_{c}/data/split_{i+1}', exist_ok=True)\n",
    "                train = df.iloc[train_index]\n",
    "                test = df.iloc[test_index]\n",
    "                train.to_csv(f'{cs}_clients/client_{c}/data/split_{i+1}/train.csv', index=False)\n",
    "                test.to_csv(f'{cs}_clients/client_{c}/data/split_{i+1}/test.csv', index=False)\n",
    "    "
   ],
   "metadata": {
    "collapsed": false,
    "ExecuteTime": {
     "end_time": "2024-01-15T14:15:09.036338Z",
     "start_time": "2024-01-15T14:15:07.384615Z"
    }
   },
   "id": "e28da68707f81ef0",
   "execution_count": 8
  },
  {
   "cell_type": "code",
   "outputs": [],
   "source": [],
   "metadata": {
    "collapsed": false
   },
   "id": "627f53fce82ac8cd"
  }
 ],
 "metadata": {
  "kernelspec": {
   "display_name": "Python 3",
   "language": "python",
   "name": "python3"
  },
  "language_info": {
   "codemirror_mode": {
    "name": "ipython",
    "version": 2
   },
   "file_extension": ".py",
   "mimetype": "text/x-python",
   "name": "python",
   "nbconvert_exporter": "python",
   "pygments_lexer": "ipython2",
   "version": "2.7.6"
  }
 },
 "nbformat": 4,
 "nbformat_minor": 5
}
